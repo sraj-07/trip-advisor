{
 "cells": [
  {
   "cell_type": "code",
   "execution_count": 31,
   "metadata": {
    "collapsed": false
   },
   "outputs": [],
   "source": [
    "# importing libraries\n",
    "from bs4 import BeautifulSoup\n",
    "import urllib\n",
    "import os\n",
    "from urllib.request import Request\n",
    "\n",
    "\n",
    "WebSites = [\"https://www.tripadvisor.in/Hotel_Review-g297671-d302890-Reviews-The_Oberoi_Vanyavilas-Sawai_Madhopur_Sawai_Madhopur_District_Rajasthan.html\"]\n",
    "\n",
    "for theurl in WebSites:\n",
    "    thepage = urllib.request.urlopen(theurl)\n",
    "    soup = BeautifulSoup(thepage, \"html.parser\")\n",
    "    header = soup.findAll(\"div\",{\"class\":\"atf_header_wrapper\"})\n",
    "\n",
    "    for head in header:\n",
    "        HotelName = head.div.div.h1.text.strip()\n",
    "        NumberOfReviews = head.div.div.div.a.span.text.strip()\n",
    "    \n",
    "\n",
    "    Rank = soup.find(\"span\", \"header_popularity popIndexValidation\").text.strip()\n",
    "\n",
    "    Address = []\n",
    "\n",
    "    street = soup.find(\"span\", \"street-address\").text.strip()\n",
    "\n",
    "    Address.append(street)\n",
    "\n",
    "    locality = soup.find(\"span\", \"locality\").text.strip()\n",
    "\n",
    "    Address.append(locality)\n",
    "\n",
    "    country = soup.find(\"span\", \"country-name\").text.strip()\n",
    "\n",
    "    Address.append(country)\n",
    "\n",
    "    Address = ' '.join(Address)\n"
   ]
  },
  {
   "cell_type": "code",
   "execution_count": 32,
   "metadata": {
    "collapsed": false
   },
   "outputs": [
    {
     "data": {
      "text/plain": [
       "'#1 of 26 Hotels in Sawai Madhopur'"
      ]
     },
     "execution_count": 32,
     "metadata": {},
     "output_type": "execute_result"
    }
   ],
   "source": [
    "Rank"
   ]
  },
  {
   "cell_type": "code",
   "execution_count": 33,
   "metadata": {
    "collapsed": false
   },
   "outputs": [
    {
     "data": {
      "text/plain": [
       "'Ranthambhore Road Sawai Madhopur 322001, India'"
      ]
     },
     "execution_count": 33,
     "metadata": {},
     "output_type": "execute_result"
    }
   ],
   "source": [
    "Address"
   ]
  },
  {
   "cell_type": "code",
   "execution_count": 34,
   "metadata": {
    "collapsed": false
   },
   "outputs": [
    {
     "data": {
      "text/plain": [
       "'771 reviews'"
      ]
     },
     "execution_count": 34,
     "metadata": {},
     "output_type": "execute_result"
    }
   ],
   "source": [
    "import re\n",
    "b = soup.find(\"a\",\"seeAllReviews\").text\n",
    "b"
   ]
  },
  {
   "cell_type": "code",
   "execution_count": 147,
   "metadata": {
    "collapsed": false
   },
   "outputs": [],
   "source": [
    "offersr = []\n",
    "offerpri = []\n",
    "prem = [soup.findAll(\"div\", \"premium_offers_area viewDealChevrons\")[0]]\n",
    "prem[0].html\n",
    "lop = prem[0].findAll(\"span\",\"providerLogo\")\n",
    "for i in range(len(lop)):\n",
    "    name = lop[i].img['alt']\n",
    "    offersr.append(name)\n",
    "    \n",
    "pol = prem[0].findAll(\"div\", \"price\")\n",
    "ref = str(prem[0].findAll(\"div\", \"price\")[0].text)\n",
    "for i in range(len(pol)):\n",
    "    price = pol[i].text\n",
    "    offerpri.append(price)\n",
    "    \n",
    "blub = [soup.findAll(\"div\", \"textLinks containsDisclaimer revised easyClear\")[0]]\n",
    "blub[0].html\n",
    "remprice = blub[0].findAll(\"span\",\"price taLnk fl\")\n",
    "pricerem = []\n",
    "for i in range(len(remprice)-1):\n",
    "    remp = remprice[i]['title']\n",
    "    pricerem.append(remp)\n",
    "\n",
    "remname = blub[0].findAll(\"span\",\"providerName taLnk\")\n",
    "namerem = []\n",
    "for i in range(len(pricerem)):\n",
    "    remn = remname[i]['title']\n",
    "    namerem.append(remn)\n",
    "for item in namerem:\n",
    "    offersr.append(item)\n",
    "for item in pricerem:\n",
    "    offerpri.append(item)"
   ]
  },
  {
   "cell_type": "code",
   "execution_count": 150,
   "metadata": {
    "collapsed": false
   },
   "outputs": [],
   "source": [
    "if len(soup.find(\"span\", \"see_all_count\").text.strip()) == 17:\n",
    "    \n",
    "\n",
    "    All_photos = soup.find(\"span\", \"see_all_count\").text.strip()\n",
    "\n",
    "    All_photos = All_photos[12]+All_photos[13] + All_photos[14] + All_photos[15]+ All_photos[16]\n",
    "\n",
    "    All_photos\n",
    "    \n",
    "elif len(soup.find(\"span\", \"see_all_count\").text.strip()) ==16:\n",
    "    All_photos = soup.find(\"span\", \"see_all_count\").text.strip()\n",
    "\n",
    "    All_photos = All_photos[12]+All_photos[13] + All_photos[14]\n",
    "\n",
    "    All_photos\n",
    "    \n",
    "elif len(soup.find(\"span\", \"see_all_count\").text.strip()) ==15:\n",
    "    All_photos = soup.find(\"span\", \"see_all_count\").text.strip()\n",
    "\n",
    "    All_photos = All_photos[12]+All_photos[13]\n",
    "\n",
    "    All_photos\n",
    "    \n",
    "elif len(soup.find(\"span\", \"see_all_count\").text.strip()) ==14:\n",
    "    All_photos = soup.find(\"span\", \"see_all_count\").text.strip()\n",
    "\n",
    "    All_photos = All_photos[12]\n",
    "\n",
    "    All_photos\n",
    "    \n"
   ]
  },
  {
   "cell_type": "code",
   "execution_count": 151,
   "metadata": {
    "collapsed": false
   },
   "outputs": [
    {
     "data": {
      "text/plain": [
       "'700'"
      ]
     },
     "execution_count": 151,
     "metadata": {},
     "output_type": "execute_result"
    }
   ],
   "source": [
    "All_photos"
   ]
  },
  {
   "cell_type": "code",
   "execution_count": 152,
   "metadata": {
    "collapsed": true
   },
   "outputs": [],
   "source": [
    "WebSites = [\" https://www.tripadvisor.in/Hotel_Review-g297671-d302890-Reviews-The_Oberoi_Vanyavilas-Sawai_Madhopur_Sawai_Madhopur_District_Rajasthan.html\"]\n",
    "\n",
    "for theurl in WebSites:\n",
    "    thepage = urllib.request.urlopen(theurl)\n",
    "    soup = BeautifulSoup(thepage, \"html.parser\")\n",
    "    \n",
    "    def overview(url):\n",
    "        "
   ]
  },
  {
   "cell_type": "code",
   "execution_count": 156,
   "metadata": {
    "collapsed": false
   },
   "outputs": [],
   "source": [
    "ovrrating = soup.find(\"span\", \"overallRating\").text.strip()\n",
    "TotalReviews = soup.find(\"a\", \"seeAllReviews\").text.strip()"
   ]
  },
  {
   "cell_type": "code",
   "execution_count": 157,
   "metadata": {
    "collapsed": false
   },
   "outputs": [
    {
     "data": {
      "text/plain": [
       "'5.0'"
      ]
     },
     "execution_count": 157,
     "metadata": {},
     "output_type": "execute_result"
    }
   ],
   "source": [
    "ovrrating"
   ]
  },
  {
   "cell_type": "code",
   "execution_count": 165,
   "metadata": {
    "collapsed": false
   },
   "outputs": [
    {
     "data": {
      "text/plain": [
       "771"
      ]
     },
     "execution_count": 165,
     "metadata": {},
     "output_type": "execute_result"
    }
   ],
   "source": [
    "no_of_review = [int(TotalReviews) for TotalReviews in str.split(TotalReviews) if TotalReviews.isdigit()]\n",
    "no_of_reviews = int(no_of_review[0])\n",
    "no_of_reviews"
   ]
  },
  {
   "cell_type": "code",
   "execution_count": 210,
   "metadata": {
    "collapsed": false
   },
   "outputs": [
    {
     "name": "stderr",
     "output_type": "stream",
     "text": [
      "G:\\anaconda3\\lib\\site-packages\\bs4\\__init__.py:181: UserWarning: No parser was explicitly specified, so I'm using the best available HTML parser for this system (\"lxml\"). This usually isn't a problem, but if you run this code on another system, or in a different virtual environment, it may use a different parser and behave differently.\n",
      "\n",
      "The code that caused this warning is on line 193 of the file G:\\anaconda3\\lib\\runpy.py. To get rid of this warning, change code that looks like this:\n",
      "\n",
      " BeautifulSoup(YOUR_MARKUP})\n",
      "\n",
      "to this:\n",
      "\n",
      " BeautifulSoup(YOUR_MARKUP, \"lxml\")\n",
      "\n",
      "  markup_type=markup_type))\n"
     ]
    }
   ],
   "source": [
    "from bs4 import BeautifulSoup\n",
    "from selenium import webdriver\n",
    "from selenium.webdriver.common.by import By\n",
    "from selenium.webdriver.support.ui import WebDriverWait\n",
    "from selenium.webdriver.support import expected_conditions as EC\n",
    "from selenium.common.exceptions import TimeoutException\n",
    "\n",
    "links = []\n",
    "for i in range(0,716,5):\n",
    "    r = 'https://www.tripadvisor.in/Hotel_Review-g297671-d302890-Reviews-'+ 'or' + str(i) +  '-The_Oberoi_Vanyavilas-Sawai_Madhopur_Sawai_Madhopur_District_Rajasthan.html'\n",
    "    links.append(r)\n",
    "for theurl in links:\n",
    "    driver = webdriver.Chrome(\"C:/Users/D/Documents/New folder/trip/chromedriver.exe\") #Or any other driver you want \n",
    "\n",
    "\n",
    "    driver.get(theurl)\n",
    "\n",
    "    moreButton = driver.find_element_by_css_selector(\"span.taLnk.ulBlueLinks\")\n",
    "\n",
    "    \n",
    "    moreButton.click()\n",
    "\n",
    "\n",
    "    wait = WebDriverWait(driver, 10)\n",
    "\n",
    "    element = wait.until(EC.invisibility_of_element_located((By.CSS_SELECTOR, \"div.loadingShade\")))\n",
    "\n",
    "\n",
    "    html_source = driver.page_source\n",
    "\n",
    "\n",
    "    soup = BeautifulSoup(html_source)  \n",
    "\n",
    "    reviewss = soup.findAll(\"p\",{\"class\":\"partial_entry\"})\n",
    "\n",
    "    a = len(reviewss)\n",
    "\n",
    "    Reviews = []\n",
    "\n",
    "    for i in range(0,a,2):\n",
    "        review = reviewss[i]\n",
    "        Reviews.append(review.text)\n",
    "        \n",
    "    Review_reply = []    \n",
    "    Reviews_0.append(Reviews)\n",
    "    for i in range(1,a,2):\n",
    "        review = reviewss[i]\n",
    "        Review_reply.append(review.text)"
   ]
  },
  {
   "cell_type": "code",
   "execution_count": 169,
   "metadata": {
    "collapsed": false
   },
   "outputs": [],
   "source": [
    "from bs4 import BeautifulSoup\n",
    "import urllib\n",
    "import os\n",
    "from urllib.request import Request\n",
    "links = []\n",
    "for i in range(0,no_of_reviews,5):\n",
    "    r = 'https://www.tripadvisor.in/Hotel_Review-g297671-d302890-Reviews-'+ 'or' + str(i) +  '-The_Oberoi_Vanyavilas-Sawai_Madhopur_Sawai_Madhopur_District_Rajasthan.html'\n",
    "    links.append(r)\n",
    "reviewid = []\n",
    "for link in links:\n",
    "    thepage = urllib.request.urlopen(link)\n",
    "\n",
    "    soup = BeautifulSoup(thepage, \"html.parser\")\n",
    "\n",
    "    header = soup.findAll(\"div\",{\"class\":\"reviewSelector\"})\n",
    "    \n",
    "    if len(header) == 5:\n",
    "        for i in range(0,5):\n",
    "            head = header[i]\n",
    "            rid = head['data-reviewid']\n",
    "            reviewid.append(rid)\n",
    "    else:\n",
    "        for i in range(0,2):\n",
    "            head = header[i]\n",
    "            rid = head['data-reviewid']\n",
    "            reviewid.append(rid)"
   ]
  },
  {
   "cell_type": "code",
   "execution_count": 171,
   "metadata": {
    "collapsed": false
   },
   "outputs": [],
   "source": [
    "reviewids = []\n",
    "for rids in reviewid:\n",
    "    rid_s =  str(rids)\n",
    "    reviewids.append(rids)\n",
    "urls = []\n",
    "for ids in reviewids:\n",
    "    r = 'https://www.tripadvisor.in/ShowUserReviews-g297671-d302890-r' + ids +'-or5-The_Oberoi_Vanyavilas-Sawai_Madhopur_Sawai_Madhopur_District_Rajasthan.html#CHECK_RATES_CONT'\n",
    "    urls.append(r)"
   ]
  },
  {
   "cell_type": "code",
   "execution_count": 186,
   "metadata": {
    "collapsed": false
   },
   "outputs": [],
   "source": [
    "import json, requests\n",
    "from bs4 import BeautifulSoup\n",
    "Reviews = []\n",
    "ReviewDates = []\n",
    "ReviewTitles = []\n",
    "StayDate = []\n",
    "for url in urls:\n",
    "\n",
    "    headers = {\"X-Requested-With\":\"XMLHttpRequest\",'connection':'Keep-Alive','accept-language':'en-GB,en-US;q=0.8,en;q=0.6',  'accept-encoding':'gzip,deflate,br','accept':'text/html, */*','accept-charset':'GBK,utf-8;q=0.7,*;q=0.3','cache-control':'max-age=0','origin':'https://www.tripadvisor.in','referer':'https://www.tripadvisor.in/Hotel_Review-g297671-d302890-Reviews-or5-The_Oberoi_Vanyavilas-Sawai_Madhopur_Sawai_Madhopur_District_Rajasthan.html','user-agent':'Mozilla/5.0 (Windows NT 10.0; Win64; x64) AppleWebKit/537.36 (KHTML, like Gecko) Chrome/61.0.3163.100 Safari/537.36','X-Requested-With':'XMLHttpRequest','X-Puid':'Wfn9PAokHnoAASMvODsAAAGI','host':'www.tripadvisor.in','content-type':'application/x-www-form-urlencoded; charset=UTF-8','content-length':'30'}\n",
    "\n",
    "    request_timeout_parameter = 60\n",
    "\n",
    "    data = {'reqNum':1, 'changeSet':'REVIEW_LIST'}\n",
    "\n",
    "    response = requests.post(url, headers = headers,data = data, timeout = request_timeout_parameter, allow_redirects=True)\n",
    "    \n",
    "    ##Reviews\n",
    "    \n",
    "    soup = BeautifulSoup(response.text, \"lxml\")\n",
    "\n",
    "    reviewElements = soup.find_all('p', class_='partial_entry')\n",
    "\n",
    "    reviewElementsText = [element.text for element in reviewElements]\n",
    "    \n",
    "    Reviews.append(reviewElementsText)\n",
    "    \n",
    "    ##Review Date\n",
    "    \n",
    "    reviewDate = soup.find_all('span', class_='ratingDate')   \n",
    "    \n",
    "    for i in range(len(reviewDate)):\n",
    "        \n",
    "        date = reviewDate[i]\n",
    "        \n",
    "        ReviewDate = date['title']\n",
    "        \n",
    "        ReviewDates.append(ReviewDate)\n",
    "    ##ReviewTitle    \n",
    "        \n",
    "    reviewtitle = soup.find_all('span', class_='noQuotes') \n",
    "    \n",
    "    \n",
    "\n",
    "    for i in range(len(reviewDate)):\n",
    "        \n",
    "        title = reviewtitle[i]\n",
    "        \n",
    "        ReviewTitle = title.text.strip()\n",
    "        \n",
    "        ReviewTitles.append(ReviewTitle)\n",
    "    \n",
    "    ##Stay Date\n",
    "    \n",
    "    staydate = soup.find_all('div', class_='recommend')\n",
    "    \n",
    "    \n",
    "    \n",
    "    for i in range(len(staydate)):\n",
    "        \n",
    "        Staydate = staydate[i]\n",
    "        \n",
    "        stayDate = Staydate.text.strip()\n",
    "    \n",
    "    StayDate.append(stayDate)"
   ]
  },
  {
   "cell_type": "code",
   "execution_count": 27,
   "metadata": {
    "collapsed": false
   },
   "outputs": [],
   "source": [
    "import json, requests\n",
    "from bs4 import BeautifulSoup\n",
    "\n",
    "ReviewDates = []\n",
    "for url in urls:\n",
    "    \n",
    "    headers = {\"X-Requested-With\":\"XMLHttpRequest\",'connection':'Keep-Alive','accept-language':'en-GB,en-US;q=0.8,en;q=0.6',  'accept-encoding':'gzip,deflate,br','accept':'text/html, */*','accept-charset':'GBK,utf-8;q=0.7,*;q=0.3','cache-control':'max-age=0','origin':'https://www.tripadvisor.in','referer':'https://www.tripadvisor.in/Hotel_Review-g297671-d302890-Reviews-or5-The_Oberoi_Vanyavilas-Sawai_Madhopur_Sawai_Madhopur_District_Rajasthan.html','user-agent':'Mozilla/5.0 (Windows NT 10.0; Win64; x64) AppleWebKit/537.36 (KHTML, like Gecko) Chrome/61.0.3163.100 Safari/537.36','X-Requested-With':'XMLHttpRequest','X-Puid':'Wfn9PAokHnoAASMvODsAAAGI','host':'www.tripadvisor.in','content-type':'application/x-www-form-urlencoded; charset=UTF-8','content-length':'30'}\n",
    "\n",
    "    request_timeout_parameter = 30\n",
    "\n",
    "    data = {'reqNum':1, 'changeSet':'REVIEW_LIST'}\n",
    "\n",
    "    response = requests.post(url, headers = headers,data = data, timeout = request_timeout_parameter, allow_redirects=True)\n",
    "    \n",
    "    soup = BeautifulSoup(response.text, \"lxml\")\n",
    "\n",
    "    reviewDate = soup.find_all('span', class_='ratingDate')   \n",
    "    for i in range(len(reviewDate)):\n",
    "        \n",
    "        date = reviewDate[i]\n",
    "        \n",
    "        ReviewDate = date['title']\n",
    "        \n",
    "        ReviewDates.append(ReviewDate)"
   ]
  },
  {
   "cell_type": "code",
   "execution_count": 179,
   "metadata": {
    "collapsed": false
   },
   "outputs": [],
   "source": []
  },
  {
   "cell_type": "code",
   "execution_count": 183,
   "metadata": {
    "collapsed": false
   },
   "outputs": [
    {
     "data": {
      "text/plain": [
       "['15 November 2017',\n",
       " '12 November 2017',\n",
       " '11 November 2017',\n",
       " '7 November 2017',\n",
       " '6 November 2017']"
      ]
     },
     "execution_count": 183,
     "metadata": {},
     "output_type": "execute_result"
    }
   ],
   "source": [
    "ReviewDates"
   ]
  },
  {
   "cell_type": "code",
   "execution_count": 34,
   "metadata": {
    "collapsed": true
   },
   "outputs": [],
   "source": [
    "import json, requests\n",
    "from bs4 import BeautifulSoup\n",
    "\n",
    "ReviewTitles = []\n",
    "for url in urls:\n",
    "    \n",
    "    headers = {\"X-Requested-With\":\"XMLHttpRequest\",'connection':'Keep-Alive','accept-language':'en-GB,en-US;q=0.8,en;q=0.6',  'accept-encoding':'gzip,deflate,br','accept':'text/html, */*','accept-charset':'GBK,utf-8;q=0.7,*;q=0.3','cache-control':'max-age=0','origin':'https://www.tripadvisor.in','referer':'https://www.tripadvisor.in/Hotel_Review-g297671-d302890-Reviews-or5-The_Oberoi_Vanyavilas-Sawai_Madhopur_Sawai_Madhopur_District_Rajasthan.html','user-agent':'Mozilla/5.0 (Windows NT 10.0; Win64; x64) AppleWebKit/537.36 (KHTML, like Gecko) Chrome/61.0.3163.100 Safari/537.36','X-Requested-With':'XMLHttpRequest','X-Puid':'Wfn9PAokHnoAASMvODsAAAGI','host':'www.tripadvisor.in','content-type':'application/x-www-form-urlencoded; charset=UTF-8','content-length':'30'}\n",
    "\n",
    "    request_timeout_parameter = 30\n",
    "\n",
    "    data = {'reqNum':1, 'changeSet':'REVIEW_LIST'}\n",
    "\n",
    "    response = requests.post(url, headers = headers,data = data, timeout = request_timeout_parameter, allow_redirects=True)\n",
    "    \n",
    "    soup = BeautifulSoup(response.text, \"lxml\")\n",
    "\n",
    "    reviewtitle = soup.find_all('span', class_='noQuotes')   \n",
    "\n",
    "    for i in range(len(reviewDate)):\n",
    "        \n",
    "        title = reviewtitle[i]\n",
    "        \n",
    "        ReviewTitle = title.text.strip()\n",
    "        \n",
    "        ReviewTitles.append(ReviewTitle)"
   ]
  },
  {
   "cell_type": "code",
   "execution_count": 51,
   "metadata": {
    "collapsed": false
   },
   "outputs": [],
   "source": [
    "z = 'https://www.tripadvisor.in/ShowUserReviews-g297671-d302890-r534932897-The_Oberoi_Vanyavilas-Sawai_Madhopur_Sawai_Madhopur_District_Rajasthan.html#CHECK_RATES_CONT'\n",
    "\n",
    "headers = {\"X-Requested-With\":\"XMLHttpRequest\",'connection':'Keep-Alive','accept-language':'en-GB,en-US;q=0.8,en;q=0.6',  'accept-encoding':'gzip,deflate,br','accept':'text/html, */*','accept-charset':'GBK,utf-8;q=0.7,*;q=0.3','cache-control':'max-age=0','origin':'https://www.tripadvisor.in','referer':'https://www.tripadvisor.in/Hotel_Review-g297671-d302890-Reviews-or5-The_Oberoi_Vanyavilas-Sawai_Madhopur_Sawai_Madhopur_District_Rajasthan.html','user-agent':'Mozilla/5.0 (Windows NT 10.0; Win64; x64) AppleWebKit/537.36 (KHTML, like Gecko) Chrome/61.0.3163.100 Safari/537.36','X-Requested-With':'XMLHttpRequest','X-Puid':'Wfn9PAokHnoAASMvODsAAAGI','host':'www.tripadvisor.in','content-type':'application/x-www-form-urlencoded; charset=UTF-8','content-length':'30'}\n",
    "\n",
    "request_timeout_parameter = 30\n",
    "\n",
    "data = {'reqNum':1, 'changeSet':'REVIEW_LIST'}\n",
    "\n",
    "response = requests.post(z, headers = headers,data = data, timeout = request_timeout_parameter, allow_redirects=True)\n",
    "    \n",
    "soup = BeautifulSoup(response.text, \"lxml\")\n",
    "\n",
    "staydate = soup.find_all('span', class_='recommend-titleInline noRatings')   \n",
    "\n",
    "StayDate = []\n"
   ]
  },
  {
   "cell_type": "code",
   "execution_count": 56,
   "metadata": {
    "collapsed": false
   },
   "outputs": [],
   "source": [
    "import json, requests\n",
    "from bs4 import BeautifulSoup\n",
    "\n",
    "StayDate = []\n",
    "for url in urls:\n",
    "    \n",
    "    headers = {\"X-Requested-With\":\"XMLHttpRequest\",'connection':'Keep-Alive','accept-language':'en-GB,en-US;q=0.8,en;q=0.6',  'accept-encoding':'gzip,deflate,br','accept':'text/html, */*','accept-charset':'GBK,utf-8;q=0.7,*;q=0.3','cache-control':'max-age=0','origin':'https://www.tripadvisor.in','referer':'https://www.tripadvisor.in/Hotel_Review-g297671-d302890-Reviews-or5-The_Oberoi_Vanyavilas-Sawai_Madhopur_Sawai_Madhopur_District_Rajasthan.html','user-agent':'Mozilla/5.0 (Windows NT 10.0; Win64; x64) AppleWebKit/537.36 (KHTML, like Gecko) Chrome/61.0.3163.100 Safari/537.36','X-Requested-With':'XMLHttpRequest','X-Puid':'Wfn9PAokHnoAASMvODsAAAGI','host':'www.tripadvisor.in','content-type':'application/x-www-form-urlencoded; charset=UTF-8','content-length':'30'}\n",
    "\n",
    "    request_timeout_parameter = 60\n",
    "\n",
    "    data = {'reqNum':1, 'changeSet':'REVIEW_LIST'}\n",
    "\n",
    "    response = requests.post(url, headers = headers,data = data, timeout = request_timeout_parameter, allow_redirects=True)\n",
    "    \n",
    "    soup = BeautifulSoup(response.text, \"lxml\")\n",
    "\n",
    "    staydate = soup.find_all('div', class_='recommend')\n",
    "    for i in range(len(staydate)):\n",
    "        Staydate = staydate[i]\n",
    "        stayDate = Staydate.text.strip()\n",
    "    \n",
    "    StayDate.append(stayDate)"
   ]
  },
  {
   "cell_type": "code",
   "execution_count": 270,
   "metadata": {
    "collapsed": false
   },
   "outputs": [
    {
     "ename": "IndexError",
     "evalue": "list index out of range",
     "output_type": "error",
     "traceback": [
      "\u001b[0;31m---------------------------------------------------------------------------\u001b[0m",
      "\u001b[0;31mIndexError\u001b[0m                                Traceback (most recent call last)",
      "\u001b[0;32m<ipython-input-270-ebec669ea8b0>\u001b[0m in \u001b[0;36m<module>\u001b[0;34m()\u001b[0m\n\u001b[1;32m      6\u001b[0m \u001b[1;32mfor\u001b[0m \u001b[0mi\u001b[0m \u001b[1;32min\u001b[0m \u001b[0mrange\u001b[0m\u001b[1;33m(\u001b[0m\u001b[0mlen\u001b[0m\u001b[1;33m(\u001b[0m\u001b[0mAbout_s\u001b[0m\u001b[1;33m)\u001b[0m\u001b[1;33m)\u001b[0m\u001b[1;33m:\u001b[0m\u001b[1;33m\u001b[0m\u001b[0m\n\u001b[1;32m      7\u001b[0m     \u001b[0mAbout\u001b[0m \u001b[1;33m=\u001b[0m \u001b[0mAbout_s\u001b[0m\u001b[1;33m[\u001b[0m\u001b[0mi\u001b[0m\u001b[1;33m]\u001b[0m\u001b[1;33m.\u001b[0m\u001b[0mfindAll\u001b[0m\u001b[1;33m(\u001b[0m\u001b[1;34m\"li\"\u001b[0m\u001b[1;33m,\u001b[0m\u001b[1;34m\"item\"\u001b[0m\u001b[1;33m)\u001b[0m\u001b[1;33m\u001b[0m\u001b[0m\n\u001b[0;32m----> 8\u001b[0;31m     \u001b[0mAbt_title\u001b[0m \u001b[1;33m=\u001b[0m \u001b[0mAbout\u001b[0m\u001b[1;33m[\u001b[0m\u001b[1;36m0\u001b[0m\u001b[1;33m]\u001b[0m\u001b[1;33m.\u001b[0m\u001b[0mtext\u001b[0m\u001b[1;33m\u001b[0m\u001b[0m\n\u001b[0m\u001b[1;32m      9\u001b[0m     \u001b[0mAbout_Title\u001b[0m\u001b[1;33m.\u001b[0m\u001b[0mappend\u001b[0m\u001b[1;33m(\u001b[0m\u001b[0mAbt_title\u001b[0m\u001b[1;33m)\u001b[0m\u001b[1;33m\u001b[0m\u001b[0m\n\u001b[1;32m     10\u001b[0m     \u001b[1;32mfor\u001b[0m \u001b[0mi\u001b[0m \u001b[1;32min\u001b[0m \u001b[0mrange\u001b[0m\u001b[1;33m(\u001b[0m\u001b[1;36m1\u001b[0m\u001b[1;33m,\u001b[0m\u001b[0mlen\u001b[0m\u001b[1;33m(\u001b[0m\u001b[0mAbout\u001b[0m\u001b[1;33m)\u001b[0m\u001b[1;33m)\u001b[0m\u001b[1;33m:\u001b[0m\u001b[1;33m\u001b[0m\u001b[0m\n",
      "\u001b[0;31mIndexError\u001b[0m: list index out of range"
     ]
    }
   ],
   "source": [
    "thepage = urllib.request.urlopen(\"https://www.tripadvisor.in/Hotel_Review-g297671-d302890-Reviews-The_Oberoi_Vanyavilas-Sawai_Madhopur_Sawai_Madhopur_District_Rajasthan.html\")\n",
    "soup = BeautifulSoup(thepage, \"html.parser\")\n",
    "About_s = soup.findAll(\"div\",{\"class\":\"ui_column is-3\"})\n",
    "About_Title = []\n",
    "About_text = []\n",
    "for i in range(len(About_s)):\n",
    "    About = About_s[i].findAll(\"li\",\"item\")\n",
    "    Abt_title = About[0].text\n",
    "    About_Title.append(Abt_title)\n",
    "    for i in range(1,len(About)):\n",
    "        About_text.append(About[i].text)"
   ]
  },
  {
   "cell_type": "code",
   "execution_count": 269,
   "metadata": {
    "collapsed": false
   },
   "outputs": [
    {
     "data": {
      "text/plain": [
       "'Hotel Amenities'"
      ]
     },
     "execution_count": 269,
     "metadata": {},
     "output_type": "execute_result"
    }
   ],
   "source": [
    "About_s = soup.findAll(\"div\",{\"class\":\"ui_column is-3\"})\n",
    "About = About_s[1].findAll(\"li\",\"item\")\n",
    "Abt_title = About[0].text\n",
    "Abt_title"
   ]
  },
  {
   "cell_type": "code",
   "execution_count": 245,
   "metadata": {
    "collapsed": false
   },
   "outputs": [],
   "source": [
    "cf = soup.findAll(\"ul\",{\"class\":\"list top_amenities\"})[0]"
   ]
  },
  {
   "cell_type": "code",
   "execution_count": 248,
   "metadata": {
    "collapsed": false
   },
   "outputs": [
    {
     "data": {
      "text/plain": [
       "[<li class=\"item title\">Top amenities</li>,\n",
       " <li class=\"item\">Pool</li>,\n",
       " <li class=\"item\">Restaurant</li>,\n",
       " <li class=\"item\">Fitness Centre with Gym / Workout Room</li>,\n",
       " <li class=\"item\">Free Parking</li>,\n",
       " <li class=\"item\">Room Service</li>,\n",
       " <li class=\"item\">Bar/Lounge</li>,\n",
       " <li class=\"item\">Spa</li>,\n",
       " <li class=\"item\">Free Internet</li>,\n",
       " <li class=\"item\">Breakfast included</li>]"
      ]
     },
     "execution_count": 248,
     "metadata": {},
     "output_type": "execute_result"
    }
   ],
   "source": [
    "cf.findAll(\"li\",\"item\")"
   ]
  },
  {
   "cell_type": "code",
   "execution_count": 251,
   "metadata": {
    "collapsed": false
   },
   "outputs": [],
   "source": [
    "About = soup.findAll(\"div\",{\"class\":\"ui_column is-3\"})"
   ]
  },
  {
   "cell_type": "code",
   "execution_count": 259,
   "metadata": {
    "collapsed": false
   },
   "outputs": [
    {
     "ename": "TypeError",
     "evalue": "list indices must be integers or slices, not str",
     "output_type": "error",
     "traceback": [
      "\u001b[0;31m---------------------------------------------------------------------------\u001b[0m",
      "\u001b[0;31mTypeError\u001b[0m                                 Traceback (most recent call last)",
      "\u001b[0;32m<ipython-input-259-692a01608de0>\u001b[0m in \u001b[0;36m<module>\u001b[0;34m()\u001b[0m\n\u001b[0;32m----> 1\u001b[0;31m \u001b[0mAbout\u001b[0m\u001b[1;33m[\u001b[0m\u001b[1;36m0\u001b[0m\u001b[1;33m]\u001b[0m\u001b[1;33m.\u001b[0m\u001b[0mfindAll\u001b[0m\u001b[1;33m(\u001b[0m\u001b[1;34m\"li\"\u001b[0m\u001b[1;33m,\u001b[0m\u001b[1;34m\"item\"\u001b[0m\u001b[1;33m)\u001b[0m\u001b[1;33m[\u001b[0m\u001b[1;34m'title'\u001b[0m\u001b[1;33m]\u001b[0m\u001b[1;33m\u001b[0m\u001b[0m\n\u001b[0m",
      "\u001b[0;31mTypeError\u001b[0m: list indices must be integers or slices, not str"
     ]
    }
   ],
   "source": [
    "About[0].findAll(\"li\",\"item\")['title']"
   ]
  },
  {
   "cell_type": "code",
   "execution_count": null,
   "metadata": {
    "collapsed": false
   },
   "outputs": [],
   "source": []
  }
 ],
 "metadata": {
  "kernelspec": {
   "display_name": "Python 3",
   "language": "python",
   "name": "python3"
  },
  "language_info": {
   "codemirror_mode": {
    "name": "ipython",
    "version": 3
   },
   "file_extension": ".py",
   "mimetype": "text/x-python",
   "name": "python",
   "nbconvert_exporter": "python",
   "pygments_lexer": "ipython3",
   "version": "3.6.3"
  }
 },
 "nbformat": 4,
 "nbformat_minor": 2
}
